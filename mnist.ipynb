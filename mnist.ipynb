{
  "nbformat": 4,
  "nbformat_minor": 0,
  "metadata": {
    "colab": {
      "name": "mnist.ipynb",
      "provenance": []
    },
    "kernelspec": {
      "name": "python3",
      "display_name": "Python 3"
    },
    "language_info": {
      "name": "python"
    },
    "accelerator": "GPU"
  },
  "cells": [
    {
      "cell_type": "code",
      "metadata": {
        "id": "Xq8XFtxgY5VW"
      },
      "source": [
        "import tensorflow as tf\n",
        "import pandas as pd\n",
        "import numpy as np\n",
        "from tensorflow.keras.preprocessing.image import ImageDataGenerator"
      ],
      "execution_count": 25,
      "outputs": []
    },
    {
      "cell_type": "code",
      "metadata": {
        "id": "eUWHefVsdHUW"
      },
      "source": [
        "file = '/content/drive/MyDrive/datasets/digit-recognizer/train.csv'\n",
        "df = pd.read_csv(file)\n"
      ],
      "execution_count": 26,
      "outputs": []
    },
    {
      "cell_type": "code",
      "metadata": {
        "id": "0IyubabS3tC_"
      },
      "source": [
        "from sklearn.model_selection import train_test_split\n",
        "y = df['label']\n",
        "X = df.drop(['label'], axis=1)\n",
        "X_train, X_test, y_train, y_test = train_test_split(X,y,test_size=0.2, stratify=y)"
      ],
      "execution_count": 27,
      "outputs": []
    },
    {
      "cell_type": "code",
      "metadata": {
        "id": "5XwMx0Yg4I84"
      },
      "source": [
        "X_train = X_train.values\n",
        "X_test = X_test.values\n",
        "y_train = y_train.values\n",
        "y_test = y_test.values\n"
      ],
      "execution_count": 28,
      "outputs": []
    },
    {
      "cell_type": "code",
      "metadata": {
        "id": "jM1WaYUc2j-W"
      },
      "source": [
        "X_train = X_train.reshape(X_train.shape[0], 28,28,1).astype('float32')\n",
        "X_test = X_test.reshape(X_test.shape[0], 28, 28, 1).astype('float32')\n",
        "\n",
        "X_train = X_train/255.0\n",
        "X_test = X_test/255.0\n",
        "\n",
        "#tf.reshape(X_train, [28,28,1,-1])"
      ],
      "execution_count": 29,
      "outputs": []
    },
    {
      "cell_type": "code",
      "metadata": {
        "id": "gp8VIcPKJOWM"
      },
      "source": [
        "X = np.concatenate((X_train, X_test))\n",
        "y = np.concatenate((y_train,y_test))\n",
        "\n",
        "y = tf.keras.utils.to_categorical(y,10)"
      ],
      "execution_count": 30,
      "outputs": []
    },
    {
      "cell_type": "code",
      "metadata": {
        "id": "2BlGM-QxFEEz"
      },
      "source": [
        "datagen = ImageDataGenerator(\n",
        "    rotation_range=10,\n",
        "    width_shift_range=0.1,\n",
        "    height_shift_range=0.1,\n",
        "    zoom_range=0.1,\n",
        "    validation_split=0.2\n",
        ")\n",
        "datagen.fit(X)"
      ],
      "execution_count": 31,
      "outputs": []
    },
    {
      "cell_type": "code",
      "metadata": {
        "id": "3T4k5teS41ly",
        "colab": {
          "base_uri": "https://localhost:8080/",
          "height": 35
        },
        "outputId": "19815fdc-823a-456d-e651-8c4ab361b1a0"
      },
      "source": [
        "\"\"\"from sklearn import preprocessing\n",
        "lb = preprocessing.LabelBinarizer()\n",
        "y = lb.fit_transform(y)\"\"\""
      ],
      "execution_count": 32,
      "outputs": [
        {
          "output_type": "execute_result",
          "data": {
            "application/vnd.google.colaboratory.intrinsic+json": {
              "type": "string"
            },
            "text/plain": [
              "'from sklearn import preprocessing\\nlb = preprocessing.LabelBinarizer()\\ny = lb.fit_transform(y)'"
            ]
          },
          "metadata": {
            "tags": []
          },
          "execution_count": 32
        }
      ]
    },
    {
      "cell_type": "code",
      "metadata": {
        "id": "AgB0QriliRm_",
        "colab": {
          "base_uri": "https://localhost:8080/"
        },
        "outputId": "f53c691a-f5ab-4275-82f5-7b30157eb6de"
      },
      "source": [
        "model = tf.keras.models.Sequential([\n",
        "    tf.keras.layers.Conv2D(32, (5,5), activation='relu', input_shape=(28,28,1)),\n",
        "    tf.keras.layers.Conv2D(32, (5,5), activation='relu'),\n",
        "    tf.keras.layers.MaxPooling2D(2, 2),\n",
        "    tf.keras.layers.Conv2D(64, (3,3), activation='relu'),\n",
        "    tf.keras.layers.Conv2D(64, (3,3), activation='relu'),\n",
        "    tf.keras.layers.MaxPooling2D(2,2),\n",
        "    tf.keras.layers.Flatten(),\n",
        "    tf.keras.layers.Dense(128, activation='relu'),\n",
        "    tf.keras.layers.Dense(64, activation='relu'),\n",
        "    tf.keras.layers.Dense(10, activation='softmax')\n",
        "])\n",
        "from tensorflow.keras.optimizers import RMSprop\n",
        "\n",
        "model.compile(loss='categorical_crossentropy',\n",
        "              optimizer='adam',\n",
        "              metrics=['accuracy'])\n",
        "model.summary()"
      ],
      "execution_count": 33,
      "outputs": [
        {
          "output_type": "stream",
          "text": [
            "Model: \"sequential_3\"\n",
            "_________________________________________________________________\n",
            "Layer (type)                 Output Shape              Param #   \n",
            "=================================================================\n",
            "conv2d_12 (Conv2D)           (None, 24, 24, 32)        832       \n",
            "_________________________________________________________________\n",
            "conv2d_13 (Conv2D)           (None, 20, 20, 32)        25632     \n",
            "_________________________________________________________________\n",
            "max_pooling2d_6 (MaxPooling2 (None, 10, 10, 32)        0         \n",
            "_________________________________________________________________\n",
            "conv2d_14 (Conv2D)           (None, 8, 8, 64)          18496     \n",
            "_________________________________________________________________\n",
            "conv2d_15 (Conv2D)           (None, 6, 6, 64)          36928     \n",
            "_________________________________________________________________\n",
            "max_pooling2d_7 (MaxPooling2 (None, 3, 3, 64)          0         \n",
            "_________________________________________________________________\n",
            "flatten_3 (Flatten)          (None, 576)               0         \n",
            "_________________________________________________________________\n",
            "dense_9 (Dense)              (None, 128)               73856     \n",
            "_________________________________________________________________\n",
            "dense_10 (Dense)             (None, 64)                8256      \n",
            "_________________________________________________________________\n",
            "dense_11 (Dense)             (None, 10)                650       \n",
            "=================================================================\n",
            "Total params: 164,650\n",
            "Trainable params: 164,650\n",
            "Non-trainable params: 0\n",
            "_________________________________________________________________\n"
          ],
          "name": "stdout"
        }
      ]
    },
    {
      "cell_type": "code",
      "metadata": {
        "id": "an7LtcYnircg",
        "colab": {
          "base_uri": "https://localhost:8080/"
        },
        "outputId": "edcebc44-30f2-4c76-fb89-0649252e1b52"
      },
      "source": [
        "history = model.fit(\n",
        "      datagen.flow(X,y, batch_size=32, subset='training'),\n",
        "      steps_per_epoch=X_train.shape[0]//32,\n",
        "      validation_data=datagen.flow(X,y,batch_size=8,subset='validation'),\n",
        "      batch_size=32,  # 2000 images = batch_size * steps\n",
        "      epochs=15,  # 1000 images = batch_size * steps\n",
        "      verbose=2)\n"
      ],
      "execution_count": 34,
      "outputs": [
        {
          "output_type": "stream",
          "text": [
            "Epoch 1/15\n",
            "1050/1050 - 42s - loss: 0.3523 - accuracy: 0.8857 - val_loss: 0.1349 - val_accuracy: 0.9588\n",
            "Epoch 2/15\n",
            "1050/1050 - 13s - loss: 0.1072 - accuracy: 0.9666 - val_loss: 0.1077 - val_accuracy: 0.9673\n",
            "Epoch 3/15\n",
            "1050/1050 - 13s - loss: 0.0812 - accuracy: 0.9759 - val_loss: 0.0717 - val_accuracy: 0.9770\n",
            "Epoch 4/15\n",
            "1050/1050 - 13s - loss: 0.0670 - accuracy: 0.9798 - val_loss: 0.0859 - val_accuracy: 0.9750\n",
            "Epoch 5/15\n",
            "1050/1050 - 13s - loss: 0.0601 - accuracy: 0.9812 - val_loss: 0.0818 - val_accuracy: 0.9755\n",
            "Epoch 6/15\n",
            "1050/1050 - 13s - loss: 0.0531 - accuracy: 0.9847 - val_loss: 0.0623 - val_accuracy: 0.9796\n",
            "Epoch 7/15\n",
            "1050/1050 - 13s - loss: 0.0485 - accuracy: 0.9857 - val_loss: 0.0590 - val_accuracy: 0.9821\n",
            "Epoch 8/15\n",
            "1050/1050 - 12s - loss: 0.0436 - accuracy: 0.9870 - val_loss: 0.0514 - val_accuracy: 0.9838\n",
            "Epoch 9/15\n",
            "1050/1050 - 13s - loss: 0.0437 - accuracy: 0.9875 - val_loss: 0.0486 - val_accuracy: 0.9854\n",
            "Epoch 10/15\n",
            "1050/1050 - 13s - loss: 0.0413 - accuracy: 0.9876 - val_loss: 0.0451 - val_accuracy: 0.9858\n",
            "Epoch 11/15\n",
            "1050/1050 - 13s - loss: 0.0366 - accuracy: 0.9886 - val_loss: 0.0439 - val_accuracy: 0.9877\n",
            "Epoch 12/15\n",
            "1050/1050 - 13s - loss: 0.0363 - accuracy: 0.9887 - val_loss: 0.0502 - val_accuracy: 0.9851\n",
            "Epoch 13/15\n",
            "1050/1050 - 13s - loss: 0.0329 - accuracy: 0.9899 - val_loss: 0.0499 - val_accuracy: 0.9843\n",
            "Epoch 14/15\n",
            "1050/1050 - 13s - loss: 0.0354 - accuracy: 0.9900 - val_loss: 0.0360 - val_accuracy: 0.9888\n",
            "Epoch 15/15\n",
            "1050/1050 - 13s - loss: 0.0323 - accuracy: 0.9903 - val_loss: 0.0394 - val_accuracy: 0.9876\n"
          ],
          "name": "stdout"
        }
      ]
    },
    {
      "cell_type": "code",
      "metadata": {
        "id": "dwIFhCFS_gn3"
      },
      "source": [
        "\n",
        "file2 = '/content/drive/MyDrive/datasets/digit-recognizer/test.csv'\n",
        "df2 = pd.read_csv(file2).values"
      ],
      "execution_count": 35,
      "outputs": []
    },
    {
      "cell_type": "code",
      "metadata": {
        "id": "9BJnqplV_v0B"
      },
      "source": [
        "df2 = df2.reshape(df2.shape[0], 28, 28, 1).astype('float32')\n",
        "\n",
        "df2 = df2/255.0\n"
      ],
      "execution_count": 36,
      "outputs": []
    },
    {
      "cell_type": "code",
      "metadata": {
        "id": "xKaingkdLxcA"
      },
      "source": [
        "testdata = ImageDataGenerator()\n",
        "testdata.fit(df2)"
      ],
      "execution_count": 37,
      "outputs": []
    },
    {
      "cell_type": "code",
      "metadata": {
        "id": "OuUKXZU5ABHw"
      },
      "source": [
        "predictions = model.predict(testdata.flow(df2, shuffle=False))"
      ],
      "execution_count": 40,
      "outputs": []
    },
    {
      "cell_type": "code",
      "metadata": {
        "colab": {
          "base_uri": "https://localhost:8080/"
        },
        "id": "e9ELwyS2AGqU",
        "outputId": "ed5f8a1c-1984-4764-8567-58af39dd7eea"
      },
      "source": [
        "print(predictions[0])"
      ],
      "execution_count": 41,
      "outputs": [
        {
          "output_type": "stream",
          "text": [
            "[3.6505113e-10 1.3311717e-09 1.0000000e+00 4.7043156e-09 1.5209128e-09\n",
            " 1.8953461e-13 3.5532675e-12 3.3612164e-08 2.9967864e-10 1.9191142e-10]\n"
          ],
          "name": "stdout"
        }
      ]
    },
    {
      "cell_type": "code",
      "metadata": {
        "colab": {
          "base_uri": "https://localhost:8080/"
        },
        "id": "-hOQh1ZNBwED",
        "outputId": "ff911ceb-30cf-4837-b9e0-63b55d0b4634"
      },
      "source": [
        "pred = predictions\n",
        "pred = [np.argmax(a, axis=None, out=None) for a in pred]\n",
        "print(pred[0])"
      ],
      "execution_count": 43,
      "outputs": [
        {
          "output_type": "stream",
          "text": [
            "2\n"
          ],
          "name": "stdout"
        }
      ]
    },
    {
      "cell_type": "code",
      "metadata": {
        "id": "1MDcBSx5CpVS"
      },
      "source": [
        "df3 = pd.DataFrame(data=pred)\n",
        "df3.to_csv('/content/drive/MyDrive/datasets/digit-recognizer/submissioncnn3.csv')"
      ],
      "execution_count": 44,
      "outputs": []
    }
  ]
}