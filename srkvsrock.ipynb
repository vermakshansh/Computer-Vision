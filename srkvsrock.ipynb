{
  "nbformat": 4,
  "nbformat_minor": 0,
  "metadata": {
    "accelerator": "GPU",
    "colab": {
      "name": "Copy of catsVSdogs.ipynb",
      "provenance": []
    },
    "kernelspec": {
      "display_name": "Python 3",
      "name": "python3"
    },
    "language_info": {
      "name": "python"
    }
  },
  "cells": [
    {
      "cell_type": "code",
      "metadata": {
        "id": "w0_-AjHcRodR"
      },
      "source": [
        "import os\n",
        "import zipfile\n",
        "import tensorflow as tf\n",
        "from tensorflow.keras.optimizers import RMSprop\n",
        "from tensorflow.keras.preprocessing.image import ImageDataGenerator"
      ],
      "execution_count": 1,
      "outputs": []
    },
    {
      "cell_type": "code",
      "metadata": {
        "id": "kO8mIjA9bYoJ"
      },
      "source": [
        "train_dir = '/content/drive/MyDrive/datasets/srk vs rock/train'\n",
        "validation_dir = '/content/drive/MyDrive/datasets/srk vs rock/valid'\n",
        "Total = 20\n",
        "batch_size = 4"
      ],
      "execution_count": 2,
      "outputs": []
    },
    {
      "cell_type": "code",
      "metadata": {
        "colab": {
          "base_uri": "https://localhost:8080/"
        },
        "id": "a5NgRHBNR3DI",
        "outputId": "0de208bd-5ba4-4f95-bc09-436965ff00f2"
      },
      "source": [
        "train_gen = ImageDataGenerator(rescale=1./255,\n",
        "      rotation_range=20,\n",
        "      width_shift_range=0.2,\n",
        "      height_shift_range=0.2,\n",
        "      shear_range=0.2,\n",
        "      zoom_range=0.2,\n",
        "      horizontal_flip=True,\n",
        "      fill_mode='nearest').flow_from_directory(\n",
        "        train_dir,\n",
        "        target_size=(64,64),\n",
        "        batch_size=batch_size,\n",
        "        class_mode='binary')\n",
        "validation_gen = ImageDataGenerator(rescale=1./255).flow_from_directory(\n",
        "        validation_dir,\n",
        "        target_size=(64,64),\n",
        "        batch_size=batch_size,\n",
        "        class_mode='binary')"
      ],
      "execution_count": 31,
      "outputs": [
        {
          "output_type": "stream",
          "text": [
            "Found 40 images belonging to 2 classes.\n",
            "Found 8 images belonging to 2 classes.\n"
          ],
          "name": "stdout"
        }
      ]
    },
    {
      "cell_type": "code",
      "metadata": {
        "colab": {
          "base_uri": "https://localhost:8080/"
        },
        "id": "l2TaaWgcSAgu",
        "outputId": "7c701876-06cc-4cdc-b100-9e5dc0ee99a2"
      },
      "source": [
        "model = tf.keras.models.Sequential([\n",
        "    tf.keras.layers.Conv2D(32, (3,3), activation='relu', input_shape=(64,64, 3)),\n",
        "    tf.keras.layers.Conv2D(64, (3,3), activation='relu'),\n",
        "    tf.keras.layers.AveragePooling2D(2,2),\n",
        "    tf.keras.layers.Conv2D(128, (3,3), activation='relu'),\n",
        "    tf.keras.layers.Conv2D(128, (3,3), activation='relu'),\n",
        "    tf.keras.layers.AveragePooling2D(2,2),\n",
        "    tf.keras.layers.Conv2D(128, (3,3), activation='relu'),\n",
        "    tf.keras.layers.Conv2D(128, (3,3), activation='relu'),\n",
        "    tf.keras.layers.AveragePooling2D(2,2),\n",
        "    tf.keras.layers.Conv2D(128, (3,3), activation='relu'),\n",
        "    tf.keras.layers.AveragePooling2D(2,2),\n",
        "    tf.keras.layers.Flatten(),\n",
        "    tf.keras.layers.Dense(512, activation='relu'),\n",
        "    tf.keras.layers.Dense(256, activation='relu'),\n",
        "    tf.keras.layers.Dense(128, activation='relu'),\n",
        "    tf.keras.layers.Dense(64, activation='relu'),\n",
        "    tf.keras.layers.Dense(1, activation='sigmoid')\n",
        "])\n",
        "loss_fn = keras.losses.SparseCategoricalCrossentropy()\n",
        "model.compile(loss='binary_crossentropy',\n",
        "              optimizer=RMSprop(lr=1e-4),\n",
        "              metrics=['accuracy'])\n",
        "model.summary()"
      ],
      "execution_count": 34,
      "outputs": [
        {
          "output_type": "stream",
          "text": [
            "Model: \"sequential_4\"\n",
            "_________________________________________________________________\n",
            "Layer (type)                 Output Shape              Param #   \n",
            "=================================================================\n",
            "conv2d_28 (Conv2D)           (None, 62, 62, 32)        896       \n",
            "_________________________________________________________________\n",
            "conv2d_29 (Conv2D)           (None, 60, 60, 64)        18496     \n",
            "_________________________________________________________________\n",
            "average_pooling2d_10 (Averag (None, 30, 30, 64)        0         \n",
            "_________________________________________________________________\n",
            "conv2d_30 (Conv2D)           (None, 28, 28, 128)       73856     \n",
            "_________________________________________________________________\n",
            "conv2d_31 (Conv2D)           (None, 26, 26, 128)       147584    \n",
            "_________________________________________________________________\n",
            "average_pooling2d_11 (Averag (None, 13, 13, 128)       0         \n",
            "_________________________________________________________________\n",
            "conv2d_32 (Conv2D)           (None, 11, 11, 128)       147584    \n",
            "_________________________________________________________________\n",
            "conv2d_33 (Conv2D)           (None, 9, 9, 128)         147584    \n",
            "_________________________________________________________________\n",
            "average_pooling2d_12 (Averag (None, 4, 4, 128)         0         \n",
            "_________________________________________________________________\n",
            "conv2d_34 (Conv2D)           (None, 2, 2, 128)         147584    \n",
            "_________________________________________________________________\n",
            "average_pooling2d_13 (Averag (None, 1, 1, 128)         0         \n",
            "_________________________________________________________________\n",
            "flatten_4 (Flatten)          (None, 128)               0         \n",
            "_________________________________________________________________\n",
            "dense_14 (Dense)             (None, 512)               66048     \n",
            "_________________________________________________________________\n",
            "dense_15 (Dense)             (None, 256)               131328    \n",
            "_________________________________________________________________\n",
            "dense_16 (Dense)             (None, 128)               32896     \n",
            "_________________________________________________________________\n",
            "dense_17 (Dense)             (None, 64)                8256      \n",
            "_________________________________________________________________\n",
            "dense_18 (Dense)             (None, 1)                 65        \n",
            "=================================================================\n",
            "Total params: 922,177\n",
            "Trainable params: 922,177\n",
            "Non-trainable params: 0\n",
            "_________________________________________________________________\n"
          ],
          "name": "stdout"
        },
        {
          "output_type": "stream",
          "text": [
            "/usr/local/lib/python3.7/dist-packages/tensorflow/python/keras/optimizer_v2/optimizer_v2.py:375: UserWarning: The `lr` argument is deprecated, use `learning_rate` instead.\n",
            "  \"The `lr` argument is deprecated, use `learning_rate` instead.\")\n"
          ],
          "name": "stderr"
        }
      ]
    },
    {
      "cell_type": "code",
      "metadata": {
        "id": "1z2l4SvdSDLb",
        "colab": {
          "base_uri": "https://localhost:8080/"
        },
        "outputId": "fb99fbe3-2ef2-485b-ef48-45676b8d0ffb"
      },
      "source": [
        "history = model.fit(\n",
        "      train_gen,\n",
        "      steps_per_epoch= 10,  # 2000 images = batch_size * steps\n",
        "      epochs=20,\n",
        "      validation_data=validation_gen,\n",
        "      validation_steps=2,  # 1000 images = batch_size * steps\n",
        "      verbose=2)"
      ],
      "execution_count": 37,
      "outputs": [
        {
          "output_type": "stream",
          "text": [
            "Epoch 1/20\n",
            "10/10 - 0s - loss: 0.6546 - accuracy: 0.6250 - val_loss: 0.6829 - val_accuracy: 0.5000\n",
            "Epoch 2/20\n",
            "10/10 - 0s - loss: 0.7050 - accuracy: 0.6750 - val_loss: 0.6537 - val_accuracy: 0.6250\n",
            "Epoch 3/20\n",
            "10/10 - 0s - loss: 0.6299 - accuracy: 0.7250 - val_loss: 0.7606 - val_accuracy: 0.5000\n",
            "Epoch 4/20\n",
            "10/10 - 0s - loss: 0.6748 - accuracy: 0.6250 - val_loss: 0.6536 - val_accuracy: 0.6250\n",
            "Epoch 5/20\n",
            "10/10 - 0s - loss: 0.6428 - accuracy: 0.6250 - val_loss: 0.6143 - val_accuracy: 0.6250\n",
            "Epoch 6/20\n",
            "10/10 - 0s - loss: 0.6772 - accuracy: 0.6500 - val_loss: 0.6839 - val_accuracy: 0.5000\n",
            "Epoch 7/20\n",
            "10/10 - 0s - loss: 0.6360 - accuracy: 0.7000 - val_loss: 0.6714 - val_accuracy: 0.5000\n",
            "Epoch 8/20\n",
            "10/10 - 0s - loss: 0.6730 - accuracy: 0.7000 - val_loss: 0.6126 - val_accuracy: 0.5000\n",
            "Epoch 9/20\n",
            "10/10 - 0s - loss: 0.6641 - accuracy: 0.6250 - val_loss: 0.6541 - val_accuracy: 0.6250\n",
            "Epoch 10/20\n",
            "10/10 - 0s - loss: 0.6648 - accuracy: 0.6250 - val_loss: 0.5920 - val_accuracy: 0.7500\n",
            "Epoch 11/20\n",
            "10/10 - 0s - loss: 0.6071 - accuracy: 0.6750 - val_loss: 0.5562 - val_accuracy: 0.7500\n",
            "Epoch 12/20\n",
            "10/10 - 0s - loss: 0.6666 - accuracy: 0.6000 - val_loss: 0.6060 - val_accuracy: 0.5000\n",
            "Epoch 13/20\n",
            "10/10 - 0s - loss: 0.5874 - accuracy: 0.7000 - val_loss: 0.7447 - val_accuracy: 0.5000\n",
            "Epoch 14/20\n",
            "10/10 - 0s - loss: 0.5447 - accuracy: 0.8000 - val_loss: 0.5742 - val_accuracy: 0.7500\n",
            "Epoch 15/20\n",
            "10/10 - 0s - loss: 0.6828 - accuracy: 0.6250 - val_loss: 0.5864 - val_accuracy: 0.5000\n",
            "Epoch 16/20\n",
            "10/10 - 0s - loss: 0.6699 - accuracy: 0.6500 - val_loss: 0.7389 - val_accuracy: 0.5000\n",
            "Epoch 17/20\n",
            "10/10 - 0s - loss: 0.5629 - accuracy: 0.7500 - val_loss: 0.7075 - val_accuracy: 0.5000\n",
            "Epoch 18/20\n",
            "10/10 - 0s - loss: 0.6419 - accuracy: 0.6750 - val_loss: 0.6246 - val_accuracy: 0.5000\n",
            "Epoch 19/20\n",
            "10/10 - 0s - loss: 0.6090 - accuracy: 0.6500 - val_loss: 0.7743 - val_accuracy: 0.5000\n",
            "Epoch 20/20\n",
            "10/10 - 0s - loss: 0.6269 - accuracy: 0.7500 - val_loss: 0.5972 - val_accuracy: 0.6250\n"
          ],
          "name": "stdout"
        }
      ]
    },
    {
      "cell_type": "code",
      "metadata": {
        "id": "8XXoeRjN1PA1",
        "colab": {
          "base_uri": "https://localhost:8080/"
        },
        "outputId": "a4437139-f9c8-48d2-a878-c926a795852b"
      },
      "source": [
        "import numpy as np\n",
        "\n",
        "image = tf.keras.preprocessing.image.load_img(path='/content/images.png', target_size=(150,150))\n",
        "input_arr = tf.keras.preprocessing.image.img_to_array(image)\n",
        "input_arr = np.array([input_arr])  \n",
        "predictions = model.predict(input_arr)\n",
        "print(predictions)"
      ],
      "execution_count": 29,
      "outputs": [
        {
          "output_type": "stream",
          "text": [
            "[[0.]]\n"
          ],
          "name": "stdout"
        }
      ]
    },
    {
      "cell_type": "code",
      "metadata": {
        "colab": {
          "base_uri": "https://localhost:8080/"
        },
        "id": "N3a-FSBJF87k",
        "outputId": "1d112b31-9e6b-4dc6-fd90-8ba35fbafee7"
      },
      "source": [
        "train_gen.class_indices"
      ],
      "execution_count": 30,
      "outputs": [
        {
          "output_type": "execute_result",
          "data": {
            "text/plain": [
              "{'rock': 0, 'srk': 1}"
            ]
          },
          "metadata": {
            "tags": []
          },
          "execution_count": 30
        }
      ]
    },
    {
      "cell_type": "code",
      "metadata": {
        "id": "Fa6hpJV7CAG_",
        "colab": {
          "base_uri": "https://localhost:8080/",
          "height": 166
        },
        "outputId": "9431246a-814c-4e24-e201-628f6b97aea8"
      },
      "source": [
        "\n",
        "tf.__version__"
      ],
      "execution_count": null,
      "outputs": [
        {
          "output_type": "error",
          "ename": "NameError",
          "evalue": "ignored",
          "traceback": [
            "\u001b[0;31m---------------------------------------------------------------------------\u001b[0m",
            "\u001b[0;31mNameError\u001b[0m                                 Traceback (most recent call last)",
            "\u001b[0;32m<ipython-input-1-65996cac02ec>\u001b[0m in \u001b[0;36m<module>\u001b[0;34m()\u001b[0m\n\u001b[0;32m----> 1\u001b[0;31m \u001b[0mtf\u001b[0m\u001b[0;34m.\u001b[0m\u001b[0m__version__\u001b[0m\u001b[0;34m\u001b[0m\u001b[0;34m\u001b[0m\u001b[0m\n\u001b[0m",
            "\u001b[0;31mNameError\u001b[0m: name 'tf' is not defined"
          ]
        }
      ]
    }
  ]
}